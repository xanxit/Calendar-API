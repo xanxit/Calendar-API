{
 "cells": [
  {
   "cell_type": "code",
   "execution_count": 2,
   "metadata": {},
   "outputs": [],
   "source": [
    "from apiclient.discovery import build"
   ]
  },
  {
   "cell_type": "code",
   "execution_count": 3,
   "metadata": {},
   "outputs": [],
   "source": [
    "from google_auth_oauthlib.flow import InstalledAppFlow\n"
   ]
  },
  {
   "cell_type": "code",
   "execution_count": 4,
   "metadata": {},
   "outputs": [],
   "source": [
    "import pickle"
   ]
  },
  {
   "cell_type": "code",
   "execution_count": 90,
   "metadata": {},
   "outputs": [
    {
     "name": "stdout",
     "output_type": "stream",
     "text": [
      "Please visit this URL to authorize this application: https://accounts.google.com/o/oauth2/auth?response_type=code&client_id=708130097829-anpse8gme96jb9su21pqn6j8g8b899se.apps.googleusercontent.com&redirect_uri=urn%3Aietf%3Awg%3Aoauth%3A2.0%3Aoob&scope=https%3A%2F%2Fwww.googleapis.com%2Fauth%2Fcalendar&state=25RF1taJj5iSm6YtUbfA3fyhlNyhsT&prompt=consent&access_type=offline\n",
      "Enter the authorization code: 4/yQE3N31uSXPyWbvexRnNvqut8WoWmg9cXpRFnnsYfUhttePWZCoCXFA\n"
     ]
    }
   ],
   "source": [
    "scopes =['https://www.googleapis.com/auth/calendar']\n",
    "flow=InstalledAppFlow.from_client_secrets_file('client_secret.json',scopes=scopes)\n",
    "credentials = flow.run_console()"
   ]
  },
  {
   "cell_type": "code",
   "execution_count": 91,
   "metadata": {},
   "outputs": [],
   "source": [
    "pickle.dump(credentials, open(\"token.pkl\", \"wb\")) \n",
    "credentials = pickle.load(open(\"token.pkl\", \"rb\"))\n",
    "service = build('calendar', 'v3', credentials=credentials)\n",
    "result = service.calendarList().list().execute()"
   ]
  },
  {
   "cell_type": "code",
   "execution_count": 92,
   "metadata": {},
   "outputs": [
    {
     "data": {
      "text/plain": [
       "{'kind': 'calendar#calendarList',\n",
       " 'etag': '\"p33cdh86cvfaug0g\"',\n",
       " 'nextSyncToken': 'CNjYoMz71egCEhlzYW5jaGl0MTBoYWplbGFAZ21haWwuY29t',\n",
       " 'items': [{'kind': 'calendar#calendarListEntry',\n",
       "   'etag': '\"1577600436963000\"',\n",
       "   'id': 'sanchit10hajela@gmail.com',\n",
       "   'summary': 'sanchit10hajela@gmail.com',\n",
       "   'timeZone': 'Asia/Kolkata',\n",
       "   'colorId': '14',\n",
       "   'backgroundColor': '#9fe1e7',\n",
       "   'foregroundColor': '#000000',\n",
       "   'selected': True,\n",
       "   'accessRole': 'owner',\n",
       "   'defaultReminders': [{'method': 'popup', 'minutes': 30}],\n",
       "   'notificationSettings': {'notifications': [{'type': 'eventCreation',\n",
       "      'method': 'email'},\n",
       "     {'type': 'eventChange', 'method': 'email'},\n",
       "     {'type': 'eventCancellation', 'method': 'email'},\n",
       "     {'type': 'eventResponse', 'method': 'email'}]},\n",
       "   'primary': True,\n",
       "   'conferenceProperties': {'allowedConferenceSolutionTypes': ['eventHangout']}},\n",
       "  {'kind': 'calendar#calendarListEntry',\n",
       "   'etag': '\"1579455711855000\"',\n",
       "   'id': 'classroom111221334370595242631@group.calendar.google.com',\n",
       "   'summary': 'Data Science Recruitment Examination Data Science Team',\n",
       "   'timeZone': 'UTC',\n",
       "   'colorId': '16',\n",
       "   'backgroundColor': '#7627bb',\n",
       "   'foregroundColor': '#ffffff',\n",
       "   'selected': True,\n",
       "   'accessRole': 'reader',\n",
       "   'defaultReminders': [],\n",
       "   'conferenceProperties': {'allowedConferenceSolutionTypes': ['eventHangout']}},\n",
       "  {'kind': 'calendar#calendarListEntry',\n",
       "   'etag': '\"1586099620945000\"',\n",
       "   'id': 'addressbook#contacts@group.v.calendar.google.com',\n",
       "   'summary': 'Contacts',\n",
       "   'timeZone': 'Asia/Kolkata',\n",
       "   'colorId': '13',\n",
       "   'backgroundColor': '#92e1c0',\n",
       "   'foregroundColor': '#000000',\n",
       "   'selected': True,\n",
       "   'accessRole': 'reader',\n",
       "   'defaultReminders': [],\n",
       "   'conferenceProperties': {'allowedConferenceSolutionTypes': ['eventHangout']}},\n",
       "  {'kind': 'calendar#calendarListEntry',\n",
       "   'etag': '\"1577600435581000\"',\n",
       "   'id': 'en.indian#holiday@group.v.calendar.google.com',\n",
       "   'summary': 'Holidays in India',\n",
       "   'timeZone': 'Asia/Kolkata',\n",
       "   'colorId': '8',\n",
       "   'backgroundColor': '#16a765',\n",
       "   'foregroundColor': '#000000',\n",
       "   'selected': True,\n",
       "   'accessRole': 'reader',\n",
       "   'defaultReminders': [],\n",
       "   'conferenceProperties': {'allowedConferenceSolutionTypes': ['eventHangout']}}]}"
      ]
     },
     "execution_count": 92,
     "metadata": {},
     "output_type": "execute_result"
    }
   ],
   "source": [
    "result"
   ]
  },
  {
   "cell_type": "code",
   "execution_count": 93,
   "metadata": {},
   "outputs": [
    {
     "data": {
      "text/plain": [
       "{'kind': 'calendar#event',\n",
       " 'etag': '\"3172380188070000\"',\n",
       " 'id': 'a4kjcmh70rijr438nmpclqnda0',\n",
       " 'status': 'confirmed',\n",
       " 'htmlLink': 'https://www.google.com/calendar/event?eid=YTRramNtaDcwcmlqcjQzOG5tcGNscW5kYTAgc2FuY2hpdDEwaGFqZWxhQG0&ctz=Asia/Kolkata',\n",
       " 'created': '2020-04-06T16:21:32.000Z',\n",
       " 'updated': '2020-04-06T16:21:34.035Z',\n",
       " 'summary': 'IPL Final 2019',\n",
       " 'description': 'MI vs TBD',\n",
       " 'location': 'Hyderabad',\n",
       " 'creator': {'email': '1905635@kiit.ac.in'},\n",
       " 'organizer': {'email': '1905635@kiit.ac.in'},\n",
       " 'start': {'dateTime': '2019-05-12T20:30:00+05:30'},\n",
       " 'end': {'dateTime': '2019-05-13T00:30:00+05:30'},\n",
       " 'iCalUID': 'a4kjcmh70rijr438nmpclqnda0@google.com',\n",
       " 'sequence': 0,\n",
       " 'attendees': [{'email': 'sanchit10hajela@gmail.com',\n",
       "   'self': True,\n",
       "   'responseStatus': 'needsAction'}],\n",
       " 'hangoutLink': 'https://meet.google.com/uaf-jhbe-vvj',\n",
       " 'conferenceData': {'createRequest': {'requestId': '5hgdifgiql6cd8f4vi5p9kvsl4',\n",
       "   'conferenceSolutionKey': {'type': 'hangoutsMeet'},\n",
       "   'status': {'statusCode': 'success'}},\n",
       "  'entryPoints': [{'entryPointType': 'video',\n",
       "    'uri': 'https://meet.google.com/uaf-jhbe-vvj',\n",
       "    'label': 'meet.google.com/uaf-jhbe-vvj'},\n",
       "   {'regionCode': 'US',\n",
       "    'entryPointType': 'phone',\n",
       "    'uri': 'tel:+1-513-480-5155',\n",
       "    'label': '+1 513-480-5155',\n",
       "    'pin': '869007408'}],\n",
       "  'conferenceSolution': {'key': {'type': 'hangoutsMeet'},\n",
       "   'name': 'Hangouts Meet',\n",
       "   'iconUri': 'https://lh5.googleusercontent.com/proxy/bWvYBOb7O03a7HK5iKNEAPoUNPEXH1CHZjuOkiqxHx8OtyVn9sZ6Ktl8hfqBNQUUbCDg6T2unnsHx7RSkCyhrKgHcdoosAW8POQJm_ZEvZU9ZfAE7mZIBGr_tDlF8Z_rSzXcjTffVXg3M46v'},\n",
       "  'conferenceId': 'uaf-jhbe-vvj',\n",
       "  'signature': 'ADR/mfPQf53XeSWtIPuLNNVFxWua'},\n",
       " 'reminders': {'useDefault': True}}"
      ]
     },
     "execution_count": 93,
     "metadata": {},
     "output_type": "execute_result"
    }
   ],
   "source": [
    "calendar_id = result['items'][0]['id']\n",
    "result = service.events().list(calendarId=calendar_id, timeZone=\"Asia/Kolkata\").execute()\n",
    "result['items'][0]"
   ]
  },
  {
   "cell_type": "code",
   "execution_count": 94,
   "metadata": {},
   "outputs": [],
   "source": [
    "from datetime import datetime, timedelta\n",
    "start_time = datetime(2020, 4, 7, 20, 30, 0)\n",
    "end_time = start_time + timedelta(hours=4)\n",
    "timezone = 'Asia/Kolkata'"
   ]
  },
  {
   "cell_type": "code",
   "execution_count": 95,
   "metadata": {},
   "outputs": [],
   "source": [
    "event = {\n",
    "  'summary': 'IPL Final 2019',\n",
    "  'location': 'Hyderabad',\n",
    "  'description': 'MI vs TBD',\n",
    "  'start': {\n",
    "    'dateTime': start_time.strftime(\"%Y-%m-%dT%H:%M:%S\"),\n",
    "    'timeZone': timezone,\n",
    "  },\n",
    "  'end': {\n",
    "    'dateTime': end_time.strftime(\"%Y-%m-%dT%H:%M:%S\"),\n",
    "    'timeZone': timezone,\n",
    "  },\n",
    "   'attendees' : [\n",
    "       {'email' :'sanchit10hajela@gmail.com'},\n",
    "   ],\n",
    "   \n",
    "  'reminders': {\n",
    "    'useDefault': False,\n",
    "    'overrides': [\n",
    "      {'method': 'email', 'minutes': 24 * 60},\n",
    "      {'method': 'popup', 'minutes': 10},\n",
    "    ],\n",
    "  },\n",
    "}"
   ]
  },
  {
   "cell_type": "code",
   "execution_count": 96,
   "metadata": {},
   "outputs": [
    {
     "data": {
      "text/plain": [
       "{'kind': 'calendar#event',\n",
       " 'etag': '\"3172517987268000\"',\n",
       " 'id': 'jrsd713hkpggk4clnrofr7c7t0',\n",
       " 'status': 'confirmed',\n",
       " 'htmlLink': 'https://www.google.com/calendar/event?eid=anJzZDcxM2hrcGdnazRjbG5yb2ZyN2M3dDAgc2FuY2hpdDEwaGFqZWxhQG0',\n",
       " 'created': '2020-04-07T11:29:53.000Z',\n",
       " 'updated': '2020-04-07T11:29:53.679Z',\n",
       " 'summary': 'IPL Final 2019',\n",
       " 'description': 'MI vs TBD',\n",
       " 'location': 'Hyderabad',\n",
       " 'creator': {'email': 'sanchit10hajela@gmail.com', 'self': True},\n",
       " 'organizer': {'email': 'sanchit10hajela@gmail.com', 'self': True},\n",
       " 'start': {'dateTime': '2020-04-07T20:30:00+05:30',\n",
       "  'timeZone': 'Asia/Kolkata'},\n",
       " 'end': {'dateTime': '2020-04-08T00:30:00+05:30', 'timeZone': 'Asia/Kolkata'},\n",
       " 'iCalUID': 'jrsd713hkpggk4clnrofr7c7t0@google.com',\n",
       " 'sequence': 0,\n",
       " 'attendees': [{'email': 'sanchit10hajela@gmail.com',\n",
       "   'organizer': True,\n",
       "   'self': True,\n",
       "   'responseStatus': 'needsAction'}],\n",
       " 'reminders': {'useDefault': False,\n",
       "  'overrides': [{'method': 'email', 'minutes': 1440},\n",
       "   {'method': 'popup', 'minutes': 10}]}}"
      ]
     },
     "execution_count": 96,
     "metadata": {},
     "output_type": "execute_result"
    }
   ],
   "source": [
    "service.events().insert(calendarId=calendar_id, body=event).execute()"
   ]
  },
  {
   "cell_type": "code",
   "execution_count": 97,
   "metadata": {},
   "outputs": [
    {
     "data": {
      "text/plain": [
       "[datetime.datetime(2020, 4, 7, 22, 0)]"
      ]
     },
     "execution_count": 97,
     "metadata": {},
     "output_type": "execute_result"
    }
   ],
   "source": [
    "import datefinder\n",
    "matches = datefinder.find_dates(\"7 april 10 PM\")\n",
    "list(matches)\n"
   ]
  },
  {
   "cell_type": "code",
   "execution_count": 102,
   "metadata": {},
   "outputs": [],
   "source": [
    "def create_events(start_time_str, summary, duration=1, attendees=None, description=None, location=None):\n",
    "    matches = list(datefinder.find_dates(start_time_str))\n",
    "    if len(matches):\n",
    "        start_time = matches[0]\n",
    "        end_time = start_time + timedelta(hours=duration)\n",
    "                \n",
    "    event = {\n",
    "        'summary': summary,\n",
    "        'location': location,\n",
    "        'description': description,\n",
    "        'start': {\n",
    "            'dateTime': start_time.strftime(\"%Y-%m-%dT%H:%M:%S\"),\n",
    "            'timeZone': timezone,\n",
    "        },\n",
    "        'end': {\n",
    "            'dateTime': end_time.strftime(\"%Y-%m-%dT%H:%M:%S\"),\n",
    "            'timeZone': timezone,\n",
    "        },\n",
    "    \n",
    "        'reminders': {\n",
    "            'useDefault': False,\n",
    "            'overrides': [\n",
    "                {'method': 'email', 'minutes': 2.5* 60},\n",
    "                {'method': 'popup', 'minutes': 10},\n",
    "            ],\n",
    "        },\n",
    "    }\n",
    "    return service.events().insert(calendarId='primary', body=event,sendNotifications=True).execute()"
   ]
  },
  {
   "cell_type": "code",
   "execution_count": 5,
   "metadata": {},
   "outputs": [
    {
     "ename": "ImportError",
     "evalue": "cannot import name 'Calendar' from 'ics' (C:\\Users\\KIIT\\Documents\\xanxit\\ics.py)",
     "output_type": "error",
     "traceback": [
      "\u001b[1;31m---------------------------------------------------------------------------\u001b[0m",
      "\u001b[1;31mImportError\u001b[0m                               Traceback (most recent call last)",
      "\u001b[1;32m<ipython-input-5-fe20c2bc2f2f>\u001b[0m in \u001b[0;36m<module>\u001b[1;34m\u001b[0m\n\u001b[1;32m----> 1\u001b[1;33m \u001b[1;32mfrom\u001b[0m \u001b[0mics\u001b[0m \u001b[1;32mimport\u001b[0m \u001b[0mEvent\u001b[0m\u001b[1;33m\u001b[0m\u001b[1;33m\u001b[0m\u001b[0m\n\u001b[0m\u001b[0;32m      2\u001b[0m \u001b[1;33m\u001b[0m\u001b[0m\n\u001b[0;32m      3\u001b[0m \u001b[0me\u001b[0m \u001b[1;33m=\u001b[0m \u001b[0mEvent\u001b[0m\u001b[1;33m(\u001b[0m\u001b[1;33m)\u001b[0m\u001b[1;33m\u001b[0m\u001b[1;33m\u001b[0m\u001b[0m\n\u001b[0;32m      4\u001b[0m \u001b[0me\u001b[0m\u001b[1;33m.\u001b[0m\u001b[0mname\u001b[0m \u001b[1;33m=\u001b[0m \u001b[1;34m\"My cool event\"\u001b[0m\u001b[1;33m\u001b[0m\u001b[1;33m\u001b[0m\u001b[0m\n\u001b[0;32m      5\u001b[0m \u001b[0me\u001b[0m\u001b[1;33m.\u001b[0m\u001b[0mbegin\u001b[0m \u001b[1;33m=\u001b[0m \u001b[1;34m'2020-04-12 12:00:00'\u001b[0m\u001b[1;33m\u001b[0m\u001b[1;33m\u001b[0m\u001b[0m\n",
      "\u001b[1;32m~\\Documents\\xanxit\\ics.py\u001b[0m in \u001b[0;36m<module>\u001b[1;34m\u001b[0m\n\u001b[0;32m      1\u001b[0m \u001b[1;33m\u001b[0m\u001b[0m\n\u001b[1;32m----> 2\u001b[1;33m \u001b[1;32mfrom\u001b[0m \u001b[0mics\u001b[0m \u001b[1;32mimport\u001b[0m \u001b[0mCalendar\u001b[0m\u001b[1;33m,\u001b[0m \u001b[0mEvent\u001b[0m\u001b[1;33m\u001b[0m\u001b[1;33m\u001b[0m\u001b[0m\n\u001b[0m\u001b[0;32m      3\u001b[0m \u001b[0mc\u001b[0m \u001b[1;33m=\u001b[0m \u001b[0mCalendar\u001b[0m\u001b[1;33m(\u001b[0m\u001b[1;33m)\u001b[0m\u001b[1;33m\u001b[0m\u001b[1;33m\u001b[0m\u001b[0m\n\u001b[0;32m      4\u001b[0m \u001b[0me\u001b[0m \u001b[1;33m=\u001b[0m \u001b[0mEvent\u001b[0m\u001b[1;33m(\u001b[0m\u001b[1;33m)\u001b[0m\u001b[1;33m\u001b[0m\u001b[1;33m\u001b[0m\u001b[0m\n\u001b[0;32m      5\u001b[0m \u001b[0me\u001b[0m\u001b[1;33m.\u001b[0m\u001b[0mname\u001b[0m \u001b[1;33m=\u001b[0m \u001b[1;34m\"My cool event\"\u001b[0m\u001b[1;33m\u001b[0m\u001b[1;33m\u001b[0m\u001b[0m\n",
      "\u001b[1;31mImportError\u001b[0m: cannot import name 'Calendar' from 'ics' (C:\\Users\\KIIT\\Documents\\xanxit\\ics.py)"
     ]
    }
   ],
   "source": [
    "from ics import Event\n",
    "\n",
    "e = Event()\n",
    "e.name = \"My cool event\"\n",
    "e.begin = '2020-04-12 12:00:00'\n",
    "c.events.add(e)\n",
    "c.events\n",
    "# [<Event 'My cool event' begin:2014-01-01 00:00:00 end:2014-01-01 00:00:01>]\n",
    "with open('my.ics', 'w') as my_file:\n",
    "    my_file.writelines(c)\n"
   ]
  },
  {
   "cell_type": "code",
   "execution_count": null,
   "metadata": {},
   "outputs": [],
   "source": []
  },
  {
   "cell_type": "code",
   "execution_count": null,
   "metadata": {},
   "outputs": [],
   "source": []
  }
 ],
 "metadata": {
  "kernelspec": {
   "display_name": "Python 3",
   "language": "python",
   "name": "python3"
  },
  "language_info": {
   "codemirror_mode": {
    "name": "ipython",
    "version": 3
   },
   "file_extension": ".py",
   "mimetype": "text/x-python",
   "name": "python",
   "nbconvert_exporter": "python",
   "pygments_lexer": "ipython3",
   "version": "3.7.6"
  }
 },
 "nbformat": 4,
 "nbformat_minor": 4
}
