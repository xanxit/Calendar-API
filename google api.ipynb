{
 "cells": [
  {
   "cell_type": "code",
   "execution_count": 7,
   "metadata": {},
   "outputs": [],
   "source": [
    "from apiclient.discovery import build"
   ]
  },
  {
   "cell_type": "code",
   "execution_count": 8,
   "metadata": {},
   "outputs": [],
   "source": [
    "from google_auth_oauthlib.flow import InstalledAppFlow\n"
   ]
  },
  {
   "cell_type": "code",
   "execution_count": 9,
   "metadata": {},
   "outputs": [],
   "source": [
    "import pickle"
   ]
  },
  {
   "cell_type": "code",
   "execution_count": 10,
   "metadata": {},
   "outputs": [
    {
     "name": "stdout",
     "output_type": "stream",
     "text": [
      "Please visit this URL to authorize this application: https://accounts.google.com/o/oauth2/auth?response_type=code&client_id=708130097829-anpse8gme96jb9su21pqn6j8g8b899se.apps.googleusercontent.com&redirect_uri=urn%3Aietf%3Awg%3Aoauth%3A2.0%3Aoob&scope=https%3A%2F%2Fwww.googleapis.com%2Fauth%2Fcalendar&state=VKF5T127ldHXLjq3ESICqntb2xxgn2&prompt=consent&access_type=offline\n",
      "Enter the authorization code: 4/zAHkF640LYubi4kZPYoggOHmKlHLESAY3gNonBZGcR4_M0keYbp-lIA\n"
     ]
    }
   ],
   "source": [
    "scopes =['https://www.googleapis.com/auth/calendar']\n",
    "flow=InstalledAppFlow.from_client_secrets_file('client_secret.json',scopes=scopes)\n",
    "credentials = flow.run_console()"
   ]
  },
  {
   "cell_type": "code",
   "execution_count": 11,
   "metadata": {},
   "outputs": [],
   "source": [
    "pickle.dump(credentials, open(\"token.pkl\", \"wb\")) \n",
    "credentials = pickle.load(open(\"token.pkl\", \"rb\"))\n",
    "service = build('calendar', 'v3', credentials=credentials)\n",
    "result = service.calendarList().list().execute()"
   ]
  },
  {
   "cell_type": "code",
   "execution_count": 92,
   "metadata": {},
   "outputs": [
    {
     "data": {
      "text/plain": [
       "{'kind': 'calendar#calendarList',\n",
       " 'etag': '\"p33cdh86cvfaug0g\"',\n",
       " 'nextSyncToken': 'CNjYoMz71egCEhlzYW5jaGl0MTBoYWplbGFAZ21haWwuY29t',\n",
       " 'items': [{'kind': 'calendar#calendarListEntry',\n",
       "   'etag': '\"1577600436963000\"',\n",
       "   'id': 'sanchit10hajela@gmail.com',\n",
       "   'summary': 'sanchit10hajela@gmail.com',\n",
       "   'timeZone': 'Asia/Kolkata',\n",
       "   'colorId': '14',\n",
       "   'backgroundColor': '#9fe1e7',\n",
       "   'foregroundColor': '#000000',\n",
       "   'selected': True,\n",
       "   'accessRole': 'owner',\n",
       "   'defaultReminders': [{'method': 'popup', 'minutes': 30}],\n",
       "   'notificationSettings': {'notifications': [{'type': 'eventCreation',\n",
       "      'method': 'email'},\n",
       "     {'type': 'eventChange', 'method': 'email'},\n",
       "     {'type': 'eventCancellation', 'method': 'email'},\n",
       "     {'type': 'eventResponse', 'method': 'email'}]},\n",
       "   'primary': True,\n",
       "   'conferenceProperties': {'allowedConferenceSolutionTypes': ['eventHangout']}},\n",
       "  {'kind': 'calendar#calendarListEntry',\n",
       "   'etag': '\"1579455711855000\"',\n",
       "   'id': 'classroom111221334370595242631@group.calendar.google.com',\n",
       "   'summary': 'Data Science Recruitment Examination Data Science Team',\n",
       "   'timeZone': 'UTC',\n",
       "   'colorId': '16',\n",
       "   'backgroundColor': '#7627bb',\n",
       "   'foregroundColor': '#ffffff',\n",
       "   'selected': True,\n",
       "   'accessRole': 'reader',\n",
       "   'defaultReminders': [],\n",
       "   'conferenceProperties': {'allowedConferenceSolutionTypes': ['eventHangout']}},\n",
       "  {'kind': 'calendar#calendarListEntry',\n",
       "   'etag': '\"1586099620945000\"',\n",
       "   'id': 'addressbook#contacts@group.v.calendar.google.com',\n",
       "   'summary': 'Contacts',\n",
       "   'timeZone': 'Asia/Kolkata',\n",
       "   'colorId': '13',\n",
       "   'backgroundColor': '#92e1c0',\n",
       "   'foregroundColor': '#000000',\n",
       "   'selected': True,\n",
       "   'accessRole': 'reader',\n",
       "   'defaultReminders': [],\n",
       "   'conferenceProperties': {'allowedConferenceSolutionTypes': ['eventHangout']}},\n",
       "  {'kind': 'calendar#calendarListEntry',\n",
       "   'etag': '\"1577600435581000\"',\n",
       "   'id': 'en.indian#holiday@group.v.calendar.google.com',\n",
       "   'summary': 'Holidays in India',\n",
       "   'timeZone': 'Asia/Kolkata',\n",
       "   'colorId': '8',\n",
       "   'backgroundColor': '#16a765',\n",
       "   'foregroundColor': '#000000',\n",
       "   'selected': True,\n",
       "   'accessRole': 'reader',\n",
       "   'defaultReminders': [],\n",
       "   'conferenceProperties': {'allowedConferenceSolutionTypes': ['eventHangout']}}]}"
      ]
     },
     "execution_count": 92,
     "metadata": {},
     "output_type": "execute_result"
    }
   ],
   "source": [
    "result"
   ]
  },
  {
   "cell_type": "code",
   "execution_count": 12,
   "metadata": {},
   "outputs": [
    {
     "data": {
      "text/plain": [
       "{'kind': 'calendar#event',\n",
       " 'etag': '\"3170057095492000\"',\n",
       " 'id': 'voodm8fk4ncqnco0s1munodl98',\n",
       " 'status': 'confirmed',\n",
       " 'htmlLink': 'https://www.google.com/calendar/event?eid=dm9vZG04Zms0bmNxbmNvMHMxbXVub2RsOTggMTkwNTYzNUBraWl0LmFjLmlu&ctz=Asia/Kolkata',\n",
       " 'created': '2020-03-19T07:14:14.000Z',\n",
       " 'updated': '2020-03-24T05:42:27.746Z',\n",
       " 'summary': \"Satya Narayan Mishra's Zoom Meeting\",\n",
       " 'description': 'Satya Narayan Mishra is inviting you to a scheduled Zoom meeting.\\n\\nJoin Zoom Meeting\\nhttps://zoom.us/j/689748687\\n\\nMeeting ID: 689 748 687\\n\\nOne tap mobile\\n,,689748687# US Toll\\n\\nDial by your location\\n         US Toll\\n        \\nMeeting ID: 689 748 687\\nFind your local number: https://zoom.us/u/avqlmJk6h\\n',\n",
       " 'location': 'https://zoom.us/j/689748687',\n",
       " 'creator': {'email': 'snmishrafet@kiit.ac.in'},\n",
       " 'organizer': {'email': 'snmishrafet@kiit.ac.in'},\n",
       " 'start': {'dateTime': '2020-03-20T10:15:00+05:30'},\n",
       " 'end': {'dateTime': '2020-03-20T10:45:00+05:30'},\n",
       " 'iCalUID': 'voodm8fk4ncqnco0s1munodl98@google.com',\n",
       " 'sequence': 0,\n",
       " 'attendees': [{'email': '1905882@kiit.ac.in',\n",
       "   'responseStatus': 'needsAction'},\n",
       "  {'email': '1905652@kiit.ac.in', 'responseStatus': 'declined'},\n",
       "  {'email': '1905599@kiit.ac.in', 'responseStatus': 'needsAction'},\n",
       "  {'email': '1905589@kiit.ac.in', 'responseStatus': 'needsAction'},\n",
       "  {'email': '1905596@kiit.ac.in', 'responseStatus': 'needsAction'},\n",
       "  {'email': '1905586@kiit.ac.in', 'responseStatus': 'needsAction'},\n",
       "  {'email': '1905615@kiit.ac.in', 'responseStatus': 'needsAction'},\n",
       "  {'email': '1905825@kiit.ac.in', 'responseStatus': 'needsAction'},\n",
       "  {'email': '1905605@kiit.ac.in', 'responseStatus': 'needsAction'},\n",
       "  {'email': '1905648@kiit.ac.in', 'responseStatus': 'needsAction'},\n",
       "  {'email': '1905638@kiit.ac.in', 'responseStatus': 'needsAction'},\n",
       "  {'email': '1905647@kiit.ac.in', 'responseStatus': 'needsAction'},\n",
       "  {'email': '1905614@kiit.ac.in', 'responseStatus': 'needsAction'},\n",
       "  {'email': '1905618@kiit.ac.in', 'responseStatus': 'needsAction'},\n",
       "  {'email': '1905624@kiit.ac.in', 'responseStatus': 'accepted'},\n",
       "  {'email': '1905628@kiit.ac.in', 'responseStatus': 'needsAction'},\n",
       "  {'email': '1905644@kiit.ac.in', 'responseStatus': 'needsAction'},\n",
       "  {'email': '1905634@kiit.ac.in', 'responseStatus': 'needsAction'},\n",
       "  {'email': '1905654@kiit.ac.in', 'responseStatus': 'needsAction'},\n",
       "  {'email': '1905608@kiit.ac.in', 'responseStatus': 'needsAction'},\n",
       "  {'email': '1905593@kiit.ac.in', 'responseStatus': 'accepted'},\n",
       "  {'email': '1905637@kiit.ac.in', 'responseStatus': 'needsAction'},\n",
       "  {'email': '1905625@kiit.ac.in', 'responseStatus': 'needsAction'},\n",
       "  {'email': '1905627@kiit.ac.in', 'responseStatus': 'needsAction'},\n",
       "  {'email': '1905635@kiit.ac.in',\n",
       "   'self': True,\n",
       "   'responseStatus': 'needsAction'},\n",
       "  {'email': '1905617@kiit.ac.in', 'responseStatus': 'needsAction'},\n",
       "  {'email': '1905655@kiit.ac.in', 'responseStatus': 'needsAction'},\n",
       "  {'email': '1905645@kiit.ac.in', 'responseStatus': 'needsAction'},\n",
       "  {'email': '1905607@kiit.ac.in', 'responseStatus': 'needsAction'},\n",
       "  {'email': '1905594@kiit.ac.in', 'responseStatus': 'accepted'},\n",
       "  {'email': '1905626@kiit.ac.in', 'responseStatus': 'needsAction'},\n",
       "  {'email': '1905879@kiit.ac.in', 'responseStatus': 'accepted'},\n",
       "  {'email': '1905616@kiit.ac.in', 'responseStatus': 'needsAction'},\n",
       "  {'email': '1905636@kiit.ac.in', 'responseStatus': 'needsAction'},\n",
       "  {'email': '1905585@kiit.ac.in', 'responseStatus': 'accepted'},\n",
       "  {'email': '1905603@kiit.ac.in', 'responseStatus': 'needsAction'},\n",
       "  {'email': '1905639@kiit.ac.in', 'responseStatus': 'needsAction'},\n",
       "  {'email': '1905649@kiit.ac.in', 'responseStatus': 'needsAction'},\n",
       "  {'email': '1905823@kiit.ac.in', 'responseStatus': 'accepted'},\n",
       "  {'email': '1905826@kiit.ac.in', 'responseStatus': 'needsAction'},\n",
       "  {'email': '1905606@kiit.ac.in', 'responseStatus': 'needsAction'},\n",
       "  {'email': '1905646@kiit.ac.in', 'responseStatus': 'needsAction'},\n",
       "  {'email': '1905613@kiit.ac.in', 'responseStatus': 'accepted'},\n",
       "  {'email': '1905629@kiit.ac.in', 'responseStatus': 'accepted'},\n",
       "  {'email': '1905876@kiit.ac.in', 'responseStatus': 'needsAction'},\n",
       "  {'email': '1905656@kiit.ac.in', 'responseStatus': 'accepted'},\n",
       "  {'email': '1905633@kiit.ac.in', 'responseStatus': 'needsAction'},\n",
       "  {'email': '1905653@kiit.ac.in', 'responseStatus': 'accepted'},\n",
       "  {'email': '1905820@kiit.ac.in', 'responseStatus': 'needsAction'},\n",
       "  {'email': '1905600@kiit.ac.in', 'responseStatus': 'needsAction'},\n",
       "  {'email': '1905620@kiit.ac.in', 'responseStatus': 'needsAction'},\n",
       "  {'email': '1905819@kiit.ac.in', 'responseStatus': 'accepted'},\n",
       "  {'email': '1905609@kiit.ac.in', 'responseStatus': 'needsAction'},\n",
       "  {'email': '1905643@kiit.ac.in', 'responseStatus': 'needsAction'},\n",
       "  {'email': '1905610@kiit.ac.in', 'responseStatus': 'needsAction'},\n",
       "  {'email': '1905650@kiit.ac.in', 'responseStatus': 'needsAction'},\n",
       "  {'email': '1905592@kiit.ac.in', 'responseStatus': 'accepted'},\n",
       "  {'email': '1905640@kiit.ac.in', 'responseStatus': 'accepted'},\n",
       "  {'email': '1905630@kiit.ac.in', 'responseStatus': 'needsAction'},\n",
       "  {'email': '1905883@kiit.ac.in', 'responseStatus': 'accepted'},\n",
       "  {'email': '1905590@kiit.ac.in', 'responseStatus': 'accepted'},\n",
       "  {'email': '1905601@kiit.ac.in', 'responseStatus': 'declined'},\n",
       "  {'email': '1905821@kiit.ac.in', 'responseStatus': 'accepted'},\n",
       "  {'email': '1905587@kiit.ac.in', 'responseStatus': 'accepted'},\n",
       "  {'email': '1905611@kiit.ac.in', 'responseStatus': 'needsAction'},\n",
       "  {'email': '1905824@kiit.ac.in', 'responseStatus': 'needsAction'},\n",
       "  {'email': '1905641@kiit.ac.in', 'responseStatus': 'needsAction'},\n",
       "  {'email': '1905604@kiit.ac.in', 'responseStatus': 'accepted'},\n",
       "  {'email': '1905621@kiit.ac.in', 'responseStatus': 'accepted'},\n",
       "  {'email': '1905880@kiit.ac.in', 'responseStatus': 'needsAction'},\n",
       "  {'email': '1905631@kiit.ac.in', 'responseStatus': 'accepted'},\n",
       "  {'email': '1905597@kiit.ac.in', 'responseStatus': 'needsAction'},\n",
       "  {'email': '1905602@kiit.ac.in', 'responseStatus': 'accepted'},\n",
       "  {'email': '1905588@kiit.ac.in', 'responseStatus': 'accepted'},\n",
       "  {'email': '1905591@kiit.ac.in', 'responseStatus': 'needsAction'},\n",
       "  {'email': '1905612@kiit.ac.in', 'responseStatus': 'accepted'},\n",
       "  {'email': '1905822@kiit.ac.in', 'responseStatus': 'needsAction'},\n",
       "  {'email': '1905651@kiit.ac.in', 'responseStatus': 'needsAction'},\n",
       "  {'email': '1905632@kiit.ac.in', 'responseStatus': 'declined'},\n",
       "  {'email': 'snmishrafet@kiit.ac.in',\n",
       "   'organizer': True,\n",
       "   'responseStatus': 'accepted'},\n",
       "  {'email': '1905622@kiit.ac.in', 'responseStatus': 'needsAction'},\n",
       "  {'email': '1905642@kiit.ac.in', 'responseStatus': 'needsAction'},\n",
       "  {'email': '1905881@kiit.ac.in', 'responseStatus': 'needsAction'},\n",
       "  {'email': '1905598@kiit.ac.in', 'responseStatus': 'needsAction'}],\n",
       " 'extendedProperties': {'shared': {'zmMeetingNum': '689748687'}},\n",
       " 'hangoutLink': 'https://meet.google.com/yin-mxub-gok',\n",
       " 'conferenceData': {'entryPoints': [{'entryPointType': 'video',\n",
       "    'uri': 'https://meet.google.com/yin-mxub-gok',\n",
       "    'label': 'meet.google.com/yin-mxub-gok'},\n",
       "   {'regionCode': 'US',\n",
       "    'entryPointType': 'phone',\n",
       "    'uri': 'tel:+1-669-241-0059',\n",
       "    'label': '+1 669-241-0059',\n",
       "    'pin': '288154346'}],\n",
       "  'conferenceSolution': {'key': {'type': 'hangoutsMeet'},\n",
       "   'name': 'Hangouts Meet',\n",
       "   'iconUri': 'https://lh5.googleusercontent.com/proxy/bWvYBOb7O03a7HK5iKNEAPoUNPEXH1CHZjuOkiqxHx8OtyVn9sZ6Ktl8hfqBNQUUbCDg6T2unnsHx7RSkCyhrKgHcdoosAW8POQJm_ZEvZU9ZfAE7mZIBGr_tDlF8Z_rSzXcjTffVXg3M46v'},\n",
       "  'conferenceId': 'yin-mxub-gok',\n",
       "  'signature': 'ADR/mfN/HmJ9TuSXTbyUnW9XI9lX'},\n",
       " 'reminders': {'useDefault': True}}"
      ]
     },
     "execution_count": 12,
     "metadata": {},
     "output_type": "execute_result"
    }
   ],
   "source": [
    "calendar_id = result['items'][0]['id']\n",
    "result = service.events().list(calendarId=calendar_id, timeZone=\"Asia/Kolkata\").execute()\n",
    "result['items'][0]"
   ]
  },
  {
   "cell_type": "code",
   "execution_count": 13,
   "metadata": {},
   "outputs": [],
   "source": [
    "from datetime import datetime, timedelta\n",
    "start_time = datetime(2020, 4, 7, 20, 30, 0)\n",
    "end_time = start_time + timedelta(hours=4)\n",
    "timezone = 'Asia/Kolkata'"
   ]
  },
  {
   "cell_type": "code",
   "execution_count": 14,
   "metadata": {},
   "outputs": [],
   "source": [
    "event = {\n",
    "  'summary': 'IPL Final 2019',\n",
    "  'location': 'Hyderabad',\n",
    "  'description': 'MI vs TBD',\n",
    "  'start': {\n",
    "    'dateTime': start_time.strftime(\"%Y-%m-%dT%H:%M:%S\"),\n",
    "    'timeZone': timezone,\n",
    "  },\n",
    "  'end': {\n",
    "    'dateTime': end_time.strftime(\"%Y-%m-%dT%H:%M:%S\"),\n",
    "    'timeZone': timezone,\n",
    "  },\n",
    "   'attendees' : [\n",
    "       {'email' :'sanchit10hajela@gmail.com'},\n",
    "   ],\n",
    "   \n",
    "  'reminders': {\n",
    "    'useDefault': False,\n",
    "    'overrides': [\n",
    "      {'method': 'email', 'minutes': 24 * 60},\n",
    "      {'method': 'popup', 'minutes': 10},\n",
    "    ],\n",
    "  },\n",
    "}"
   ]
  },
  {
   "cell_type": "code",
   "execution_count": 15,
   "metadata": {},
   "outputs": [
    {
     "data": {
      "text/plain": [
       "{'kind': 'calendar#event',\n",
       " 'etag': '\"3175778102073000\"',\n",
       " 'id': 'jsthitj2cfq6k1rnq7kb7vorlk',\n",
       " 'status': 'confirmed',\n",
       " 'htmlLink': 'https://www.google.com/calendar/event?eid=anN0aGl0ajJjZnE2azFybnE3a2I3dm9ybGsgMTkwNTYzNUBraWl0LmFjLmlu',\n",
       " 'created': '2020-04-26T08:17:30.000Z',\n",
       " 'updated': '2020-04-26T08:17:31.081Z',\n",
       " 'summary': 'IPL Final 2019',\n",
       " 'description': 'MI vs TBD',\n",
       " 'location': 'Hyderabad',\n",
       " 'creator': {'email': '1905635@kiit.ac.in', 'self': True},\n",
       " 'organizer': {'email': '1905635@kiit.ac.in', 'self': True},\n",
       " 'start': {'dateTime': '2020-04-07T20:30:00+05:30',\n",
       "  'timeZone': 'Asia/Kolkata'},\n",
       " 'end': {'dateTime': '2020-04-08T00:30:00+05:30', 'timeZone': 'Asia/Kolkata'},\n",
       " 'iCalUID': 'jsthitj2cfq6k1rnq7kb7vorlk@google.com',\n",
       " 'sequence': 0,\n",
       " 'attendees': [{'email': 'sanchit10hajela@gmail.com',\n",
       "   'responseStatus': 'needsAction'}],\n",
       " 'hangoutLink': 'https://meet.google.com/dit-tdda-kef',\n",
       " 'conferenceData': {'createRequest': {'requestId': 'em2e074g67u4c58u6ov3lrf80s',\n",
       "   'conferenceSolutionKey': {'type': 'hangoutsMeet'},\n",
       "   'status': {'statusCode': 'success'}},\n",
       "  'entryPoints': [{'entryPointType': 'video',\n",
       "    'uri': 'https://meet.google.com/dit-tdda-kef',\n",
       "    'label': 'meet.google.com/dit-tdda-kef'},\n",
       "   {'regionCode': 'US',\n",
       "    'entryPointType': 'phone',\n",
       "    'uri': 'tel:+1-240-617-0110',\n",
       "    'label': '+1 240-617-0110',\n",
       "    'pin': '895720061'}],\n",
       "  'conferenceSolution': {'key': {'type': 'hangoutsMeet'},\n",
       "   'name': 'Hangouts Meet',\n",
       "   'iconUri': 'https://lh5.googleusercontent.com/proxy/bWvYBOb7O03a7HK5iKNEAPoUNPEXH1CHZjuOkiqxHx8OtyVn9sZ6Ktl8hfqBNQUUbCDg6T2unnsHx7RSkCyhrKgHcdoosAW8POQJm_ZEvZU9ZfAE7mZIBGr_tDlF8Z_rSzXcjTffVXg3M46v'},\n",
       "  'conferenceId': 'dit-tdda-kef',\n",
       "  'signature': 'ADR/mfMRjyGZ2Z49/sppX0ctMfNA'},\n",
       " 'reminders': {'useDefault': False,\n",
       "  'overrides': [{'method': 'email', 'minutes': 1440},\n",
       "   {'method': 'popup', 'minutes': 10}]}}"
      ]
     },
     "execution_count": 15,
     "metadata": {},
     "output_type": "execute_result"
    }
   ],
   "source": [
    "service.events().insert(calendarId=calendar_id, body=event).execute()"
   ]
  },
  {
   "cell_type": "code",
   "execution_count": 16,
   "metadata": {},
   "outputs": [
    {
     "data": {
      "text/plain": [
       "[datetime.datetime(2020, 4, 7, 22, 0)]"
      ]
     },
     "execution_count": 16,
     "metadata": {},
     "output_type": "execute_result"
    }
   ],
   "source": [
    "import datefinder\n",
    "matches = datefinder.find_dates(\"7 april 10 PM\")\n",
    "list(matches)\n"
   ]
  },
  {
   "cell_type": "code",
   "execution_count": 17,
   "metadata": {},
   "outputs": [],
   "source": [
    "def create_events(start_time_str, summary, duration=1, attendees=None, description=None, location=None):\n",
    "    matches = list(datefinder.find_dates(start_time_str))\n",
    "    if len(matches):\n",
    "        start_time = matches[0]\n",
    "        end_time = start_time + timedelta(hours=duration)\n",
    "                \n",
    "    event = {\n",
    "        'summary': summary,\n",
    "        'location': location,\n",
    "        'description': description,\n",
    "        'start': {\n",
    "            'dateTime': start_time.strftime(\"%Y-%m-%dT%H:%M:%S\"),\n",
    "            'timeZone': timezone,\n",
    "        },\n",
    "        'end': {\n",
    "            'dateTime': end_time.strftime(\"%Y-%m-%dT%H:%M:%S\"),\n",
    "            'timeZone': timezone,\n",
    "        },\n",
    "    \n",
    "        'reminders': {\n",
    "            'useDefault': False,\n",
    "            'overrides': [\n",
    "                {'method': 'email', 'minutes': 2.5* 60},\n",
    "                {'method': 'popup', 'minutes': 10},\n",
    "            ],\n",
    "        },\n",
    "    }\n",
    "    return service.events().insert(calendarId='primary', body=event,sendNotifications=True).execute()"
   ]
  },
  {
   "cell_type": "code",
   "execution_count": 18,
   "metadata": {},
   "outputs": [
    {
     "data": {
      "text/plain": [
       "{'kind': 'calendar#event',\n",
       " 'etag': '\"3175778108038000\"',\n",
       " 'id': 'v3nad8mfipuuqp1e9bk6een6k0',\n",
       " 'status': 'confirmed',\n",
       " 'htmlLink': 'https://www.google.com/calendar/event?eid=djNuYWQ4bWZpcHV1cXAxZTliazZlZW42azAgMTkwNTYzNUBraWl0LmFjLmlu',\n",
       " 'created': '2020-04-26T08:17:33.000Z',\n",
       " 'updated': '2020-04-26T08:17:34.148Z',\n",
       " 'summary': 'Meeting codepth ',\n",
       " 'creator': {'email': '1905635@kiit.ac.in', 'self': True},\n",
       " 'organizer': {'email': '1905635@kiit.ac.in', 'self': True},\n",
       " 'start': {'dateTime': '2020-04-06T21:00:00+05:30',\n",
       "  'timeZone': 'Asia/Kolkata'},\n",
       " 'end': {'dateTime': '2020-04-06T21:30:00+05:30', 'timeZone': 'Asia/Kolkata'},\n",
       " 'iCalUID': 'v3nad8mfipuuqp1e9bk6een6k0@google.com',\n",
       " 'sequence': 0,\n",
       " 'reminders': {'useDefault': False,\n",
       "  'overrides': [{'method': 'email', 'minutes': 150},\n",
       "   {'method': 'popup', 'minutes': 10}]}}"
      ]
     },
     "execution_count": 18,
     "metadata": {},
     "output_type": "execute_result"
    }
   ],
   "source": [
    "create_events('6 April 9.01pm', 'Meeting codepth ',0.5,'bil155@mail.com')"
   ]
  },
  {
   "cell_type": "code",
   "execution_count": null,
   "metadata": {},
   "outputs": [],
   "source": []
  },
  {
   "cell_type": "code",
   "execution_count": null,
   "metadata": {},
   "outputs": [],
   "source": []
  }
 ],
 "metadata": {
  "kernelspec": {
   "display_name": "Python 3",
   "language": "python",
   "name": "python3"
  },
  "language_info": {
   "codemirror_mode": {
    "name": "ipython",
    "version": 3
   },
   "file_extension": ".py",
   "mimetype": "text/x-python",
   "name": "python",
   "nbconvert_exporter": "python",
   "pygments_lexer": "ipython3",
   "version": "3.7.6"
  }
 },
 "nbformat": 4,
 "nbformat_minor": 4
}
